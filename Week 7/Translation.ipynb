{
 "cells": [
  {
   "cell_type": "code",
   "execution_count": 1,
   "metadata": {},
   "outputs": [
    {
     "name": "stdout",
     "output_type": "stream",
     "text": [
      "Collecting TextBlob\n",
      "  Downloading https://files.pythonhosted.org/packages/44/a4/595b66c1342a830f4ff476307c4367541cce3e361b9ee96d22a5eeeddd1d/textblob-0.17.1-py2.py3-none-any.whl (636kB)\n",
      "Requirement already satisfied: nltk>=3.1; python_version >= \"3\" in c:\\users\\bala abduljalil\\appdata\\local\\continuum\\anaconda3\\lib\\site-packages (from TextBlob) (3.4)\n",
      "Requirement already satisfied: six in c:\\users\\bala abduljalil\\appdata\\local\\continuum\\anaconda3\\lib\\site-packages (from nltk>=3.1; python_version >= \"3\"->TextBlob) (1.12.0)\n",
      "Requirement already satisfied: singledispatch in c:\\users\\bala abduljalil\\appdata\\local\\continuum\\anaconda3\\lib\\site-packages (from nltk>=3.1; python_version >= \"3\"->TextBlob) (3.4.0.3)\n",
      "Installing collected packages: TextBlob\n",
      "Successfully installed TextBlob-0.17.1\n"
     ]
    }
   ],
   "source": [
    "!pip install TextBlob"
   ]
  },
  {
   "cell_type": "code",
   "execution_count": 2,
   "metadata": {},
   "outputs": [
    {
     "name": "stdout",
     "output_type": "stream",
     "text": [
      "It is a truth universally acknowledged, that a single man in possession of a good fortune, must be in want of a wife.  has a sentiment of:  Sentiment(polarity=0.20952380952380953, subjectivity=0.27142857142857146)\n",
      "Darcy, as well as Elizabeth, really loved them; and they were both ever sensible of the warmest gratitude towards the persons who, by bringing her into Derbyshire, had been the means of uniting them.  has a sentiment of:  Sentiment(polarity=0.7, subjectivity=0.8)\n"
     ]
    }
   ],
   "source": [
    "from textblob import TextBlob\n",
    "quote1 = \"\"\"It is a truth universally acknowledged, that a single man in possession of a good fortune, must be in want of a wife.\"\"\"\n",
    "\n",
    "quote2 = \"\"\"Darcy, as well as Elizabeth, really loved them; and they were both ever sensible of the warmest gratitude towards the persons who, by bringing her into Derbyshire, had been the means of uniting them.\"\"\"\n",
    "sentiment1 = TextBlob(quote1).sentiment\n",
    "sentiment2 = TextBlob(quote2).sentiment\n",
    "\n",
    "print(quote1,' has a sentiment of: ', str(sentiment1))\n",
    "print(quote2, ' has a sentiment of: ', str(sentiment2))"
   ]
  },
  {
   "cell_type": "code",
   "execution_count": 3,
   "metadata": {},
   "outputs": [
    {
     "name": "stdout",
     "output_type": "stream",
     "text": [
      "File downloaded successfully.\n"
     ]
    }
   ],
   "source": [
    "# downloading using Python: Yay\n",
    "import requests\n",
    "\n",
    "url = \"https://www.gutenberg.org/files/42671/42671.txt\"\n",
    "response = requests.get(url)\n",
    "\n",
    "if response.status_code == 200:\n",
    "    # Get the filename from the URL\n",
    "    filename = 'pride_and_prejudice.txt'\n",
    "\n",
    "    # Save the file\n",
    "    with open(filename, \"w\") as file:\n",
    "        file.write(response.text)\n",
    "    \n",
    "    print(\"File downloaded successfully.\")\n",
    "else:\n",
    "    print(\"Failed to download the file.\")"
   ]
  },
  {
   "cell_type": "code",
   "execution_count": 5,
   "metadata": {},
   "outputs": [
    {
     "name": "stderr",
     "output_type": "stream",
     "text": [
      "[nltk_data] Downloading package punkt to C:\\Users\\BALA\n",
      "[nltk_data]     ABDULJALIL\\AppData\\Roaming\\nltk_data...\n",
      "[nltk_data]   Unzipping tokenizers\\punkt.zip.\n"
     ]
    },
    {
     "data": {
      "text/plain": [
       "True"
      ]
     },
     "execution_count": 5,
     "metadata": {},
     "output_type": "execute_result"
    }
   ],
   "source": [
    "import nltk\n",
    "nltk.download('punkt')"
   ]
  },
  {
   "cell_type": "code",
   "execution_count": 6,
   "metadata": {},
   "outputs": [
    {
     "name": "stdout",
     "output_type": "stream",
     "text": [
      "The 33 most positive sentences: \n",
      "+ \"What an excellent father you have, girls,\" said she, when the door wasshut.\n",
      "+ He walked here, and he walked there, fancying himself so verygreat!\n",
      "+ Elizabeth assured him that she could suit herself perfectly with thosein the room.\n",
      "+ Her performance on the piano-forte isexquisite.\"\n",
      "+ yes--I understand you perfectly.\"\n",
      "+ \"I am perfectly convinced by it that Mr. Darcy has no defect.\n",
      "+ \"It _is_ wonderful,\"--replied Wickham,--\"for almost all his actions maybe traced to pride;--and pride has often been his best friend.\n",
      "+ Family pride, and _filial_ pride, for he is very proud of whathis father was, have done this.\n",
      "+ How wonderfully these sort of things occur!\n",
      "+ She owedher greatest relief to her friend Miss Lucas, who often joined them, andgood-naturedly engaged Mr. Collins's conversation to herself.\n",
      "+ \"An excellent consolation in its way,\" said Elizabeth, \"but it will notdo for _us_.\n",
      "+ The improvement ofspending a night in London was added in time, and the plan becameperfect as plan could be.\n",
      "+ It is the greatest of favourswhen Miss De Bourgh comes in.\"\n",
      "+ Anne would havebeen a delightful performer, had her health allowed her to learn.\"\n",
      "+ \"Perfectly so--I thank you.\"\n",
      "+ She is avery great favourite with some ladies of my acquaintance, Mrs. Hurst andMiss Bingley.\n",
      "+ cried Elizabeth, with the greatest satisfaction.\n",
      "+ Charlotte is anexcellent manager, I dare say.\n",
      "+ \"His father was an excellent man,\" said Mrs. Gardiner.\n",
      "+ \"He is the best landlord, and the best master,\" said she, \"that everlived.\n",
      "+ \"He is perfectly well behaved, polite, and unassuming,\" said her uncle.\n",
      "+ On reaching the house, they were shewn through the hall into the saloon,whose northern aspect rendered it delightful for summer.\n",
      "+ Our distress, my     dear Lizzy, is very great.\n",
      "+ And tell my dearLydia, not to give any directions about her clothes, till she has seenme, for she does not know which are the best warehouses.\n",
      "+ We acted with the best intentions.\"\n",
      "+ It now occurred to the girls that their mother was in all likelihoodperfectly ignorant of what had happened.\n",
      "+ But, however, he is very welcome tocome to Netherfield, if he likes it.\n",
      "+ Happy shall I be, when his stay at Netherfield is over!\"\n",
      "+ You will be a very happy woman.\"\n",
      "+ my dear, dear Jane, I am sohappy!\n",
      "+ If I could but see _you_ as happy!\n",
      "+ He is perfectly amiable.\n",
      "+ Your idea of the ponies is delightful.\n",
      "The 16 most negative sentences: \n",
      "- shocking!\"\n",
      "- Every body is disgusted with his pride.\n",
      "- \"But what,\" said she, after a pause, \"can have been his motive?--whatcan have induced him to behave so cruelly?\"\n",
      "- His disposition mustbe dreadful.\"\n",
      "- \"You shall hear then--but prepare yourself for something very dreadful.\n",
      "- The pause was to Elizabeth's feelingsdreadful.\n",
      "- \"Wickham sovery bad!\n",
      "- The separationbetween her and her family was rather noisy than pathetic.\n",
      "- It would be dreadful!\n",
      "- It is every way horrible!\"\n",
      "- \"Oh, yes!--that, that is the worst of all.\n",
      "- \"She is so fond of Mrs. Forster,\" said she, \"it will be quite shockingto send her away!\n",
      "- It was all     over before I arrived; so my curiosity was not so dreadfully racked     as _your's_ seems to have been.\n",
      "- He called it, therefore, his duty to step     forward, and endeavour to remedy an evil, which had been brought on     by himself.\n",
      "- \"Hate you!\n",
      "- You were disgusted with the women who were always speakingand looking, and thinking for _your_ approbation alone.\n"
     ]
    }
   ],
   "source": [
    "# opening the file\n",
    "with open('pride_and_prejudice.txt',encoding=\"utf8\") as f:\n",
    "    content = f.read()\n",
    "# making textblob of the    \n",
    "book = TextBlob(content)\n",
    "# initializing the containers for the sentences\n",
    "positive_sentiments = []\n",
    "negative_sentiments = []\n",
    "\n",
    "# assigning sentences based on extremes in polarity\n",
    "for sentence in book.sentences:\n",
    "    if sentence.sentiment.polarity == 1:\n",
    "        positive_sentiments.append(sentence)\n",
    "    if sentence.sentiment.polarity == -1:\n",
    "        negative_sentiments.append(sentence)\n",
    "\n",
    "# finally printing the sentences\n",
    "print('The ' + str(len(positive_sentiments)) + ' most positive sentences: ')\n",
    "for sentence in positive_sentiments:\n",
    "    print('+ ' + str(sentence.replace('\\n', '').replace('      ', ' ')))\n",
    "    \n",
    "print('The ' + str(len(negative_sentiments)) + ' most negative sentences: ')\n",
    "for sentence in negative_sentiments:\n",
    "    print('- ' + str(sentence.replace('\\n', '').replace('      ', ' ')))"
   ]
  },
  {
   "cell_type": "code",
   "execution_count": null,
   "metadata": {},
   "outputs": [],
   "source": []
  }
 ],
 "metadata": {
  "kernelspec": {
   "display_name": "Python 3",
   "language": "python",
   "name": "python3"
  },
  "language_info": {
   "codemirror_mode": {
    "name": "ipython",
    "version": 3
   },
   "file_extension": ".py",
   "mimetype": "text/x-python",
   "name": "python",
   "nbconvert_exporter": "python",
   "pygments_lexer": "ipython3",
   "version": "3.7.1"
  }
 },
 "nbformat": 4,
 "nbformat_minor": 2
}
